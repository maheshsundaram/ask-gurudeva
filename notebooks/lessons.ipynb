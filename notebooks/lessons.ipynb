{
 "cells": [
  {
   "cell_type": "markdown",
   "id": "5166d759",
   "metadata": {},
   "source": [
    "### Load data"
   ]
  },
  {
   "cell_type": "code",
   "execution_count": 1,
   "id": "fb3c6f02",
   "metadata": {
    "tags": []
   },
   "outputs": [],
   "source": [
    "import json\n",
    "\n",
    "with open('./mastercourse.json') as f:\n",
    "    texts = json.load(f)"
   ]
  },
  {
   "cell_type": "code",
   "execution_count": 2,
   "id": "879873a4",
   "metadata": {},
   "outputs": [
    {
     "name": "stdout",
     "output_type": "stream",
     "text": [
      "Now you have 1460 documents\n"
     ]
    }
   ],
   "source": [
    "print (f'Now you have {len(texts)} documents')"
   ]
  },
  {
   "cell_type": "markdown",
   "id": "838b2843",
   "metadata": {},
   "source": [
    "### Create embeddings of your documents to get ready for semantic search"
   ]
  },
  {
   "cell_type": "code",
   "execution_count": 3,
   "id": "373e695a",
   "metadata": {
    "tags": []
   },
   "outputs": [
    {
     "name": "stderr",
     "output_type": "stream",
     "text": [
      "/home/aum/.local/lib/python3.10/site-packages/pinecone/index.py:4: TqdmWarning: IProgress not found. Please update jupyter and ipywidgets. See https://ipywidgets.readthedocs.io/en/stable/user_install.html\n",
      "  from tqdm.autonotebook import tqdm\n"
     ]
    }
   ],
   "source": [
    "from langchain.vectorstores import Chroma, Pinecone\n",
    "from langchain.embeddings.openai import OpenAIEmbeddings\n",
    "import pinecone"
   ]
  },
  {
   "cell_type": "code",
   "execution_count": 9,
   "id": "0e093ef3",
   "metadata": {
    "hide_input": false,
    "tags": []
   },
   "outputs": [],
   "source": [
    "OPENAI_API_KEY = '...'\n",
    "PINECONE_API_KEY = '...'\n",
    "PINECONE_API_ENV = '...'"
   ]
  },
  {
   "cell_type": "code",
   "execution_count": 10,
   "id": "4e0d1c6a",
   "metadata": {
    "tags": []
   },
   "outputs": [],
   "source": [
    "embeddings = OpenAIEmbeddings(openai_api_key=OPENAI_API_KEY)"
   ]
  },
  {
   "cell_type": "code",
   "execution_count": 11,
   "id": "0deb2f6a",
   "metadata": {
    "tags": []
   },
   "outputs": [],
   "source": [
    "# initialize pinecone\n",
    "pinecone.init(\n",
    "    api_key=PINECONE_API_KEY,  # find at app.pinecone.io\n",
    "    environment=PINECONE_API_ENV  # next to api key in console\n",
    ")\n",
    "index_name = \"...\""
   ]
  },
  {
   "cell_type": "code",
   "execution_count": 12,
   "id": "388988ce",
   "metadata": {
    "tags": []
   },
   "outputs": [],
   "source": [
    "docsearch = Pinecone.from_texts([t for t in texts], embeddings, index_name=index_name)"
   ]
  },
  {
   "cell_type": "markdown",
   "id": "3c35dcd9",
   "metadata": {},
   "source": [
    "### Query those docs to get your answer back"
   ]
  },
  {
   "cell_type": "code",
   "execution_count": 13,
   "id": "f051337b",
   "metadata": {
    "tags": []
   },
   "outputs": [],
   "source": [
    "from langchain.llms import OpenAI\n",
    "from langchain.chains.question_answering import load_qa_chain"
   ]
  },
  {
   "cell_type": "code",
   "execution_count": 23,
   "id": "6b9b1c03",
   "metadata": {
    "tags": []
   },
   "outputs": [],
   "source": [
    "llm = OpenAI(temperature=0, openai_api_key=OPENAI_API_KEY)\n",
    "chain = load_qa_chain(llm, chain_type=\"stuff\")"
   ]
  },
  {
   "cell_type": "code",
   "execution_count": 32,
   "id": "d558b08b-8833-4384-83f4-b15e6bf22010",
   "metadata": {
    "tags": []
   },
   "outputs": [
    {
     "data": {
      "text/plain": [
       "[Document(page_content='Lesson 229 from Living with Siva\\n\\nQuestions On Suicide \\nAnother very serious issue faced today in every society is suicide. The percentages are too high to ignore the problem that exists in far too many Hindu communities. Well, we can advise, as many elders do: \"Don\\'t kill yourself.\" After all, they became elders by avoiding such extreme solutions. But do those who are all wrought up with emotion and confusion listen to such advice? No. Many die needlessly at their own hand. How selfish. How sad. But it is happening every day. Suicide does not solve problems. It only magnifies future problems in the Antarloka--the subtle, nonphysical astral world we live in before we incarnate--and in the next life. Suicide only accelerates the intensity of karma, bringing a series of immediate lesser births and requiring several lives for the soul to return to the evolutionary point that existed at the moment of suicide, at which time the still existing karmic entanglement that brought on the death must again be faced and resolved. Thus turns the slow wheel of samsara. To gain a fine birth, one must live according to the natural laws of dharma and live out the karma in this life positively and fully. Suicide is termed pranatyaga in Sanskrit, \"abandoning life force.\" It is intentionally ending one\\'s own life through poisoning, drowning, burning, stabbing, jumping, shooting, etc. Suicide has traditionally been prohibited in Hindu scripture because, being an abrupt escape from life, it creates unseemly karma to be faced in the future. However, in cases of terminal disease or great disability, religious self-willed death through fasting, prayopavesha, is sometimes permitted. Hinduism is not absolutely black and white in this matter. Rather, it takes into account the broader picture. How will this affect the soul? How will it affect humanity? How will it affect one\\'s future incarnations? All that must be taken into account if a wise and compassionate, right decision is to be made on so serious a matter. There are very few extraordinary situations in which self-willed death is permitted. It is not enough that we are unhappy, disappointed, going through a temporary anguish, such as loss of loved ones, a physical injury, a financial loss or the failure to pass an exam and the fear of an angry thrashing from parents when they find out. That is called life. It is not enough that we are filled with sorrow. None of these reasons is enough to justify suicide, and thus it is in such cases an ignoble act. It is not necessarily even enough that we are suffering a serious, terminal illness, one of the thousands that beset human beings on this planet. \\n\\n', metadata={}),\n",
       " Document(page_content=\"Sutra 57 of the Nandinatha Sutras\\n\\nSuicide \\n\\nSiva's devotees are forbidden to escape life's experience through suicide. However, in cases of terminal illness, under strict community regulation, tradition does allow fasting as a means of mors voluntaria religiosa. Aum.\\n\\n\\n\", metadata={}),\n",
       " Document(page_content='Sloka 35 from Dancing with Siva\\n\\nHow Does One Best Prepare for Death?\\n\\nBlessed with the knowledge of impending transition, we settle affairs and take refuge in japa, worship, scripture and yoga--seeking the highest realizations as we consciously, joyously release the world. Aum Namah Sivaya.\\nBhashya\\n\\nBefore dying, Hindus diligently fulfill obligations, make amends and resolve differences by forgiving themselves and others, lest unresolved karmas bear fruit in future births. That done, we turn to God through meditation, surrender and scriptural study. As a conscious death is our ideal, we avoid drugs, artificial life-extension and suicide. Suicide only postpones and intensifies the karma one seeks escape from, requiring several lives to return to the evolutionary point that existed at the moment of suicide. In cases of terminal illness, under strict community regulation, tradition does allow prayopavesha, self-willed religious death by fasting. When nearing transition, if hospitalized, we return home to be among loved ones. In the final hours of life, we seek the Self God within and focus on our mantra as kindred keep prayerful vigil. At death, we leave the body through the crown chakra, entering the clear white light and beyond in quest of videhamukti. The Vedas affirm, \"When a person comes to weakness, be it through old age or disease, he frees himself from these limbs just as a mango, a fig or a berry releases itself from its stalk.\" Aum Namah Sivaya.\\n\\n', metadata={}),\n",
       " Document(page_content='Sloka 35 from Dancing with Siva\\n\\nHow Does One Best Prepare for Death?\\n\\nBlessed with the knowledge of impending transition, we settle affairs and take refuge in japa, worship, scripture and yoga--seeking the highest realizations as we consciously, joyously release the world. Aum Namah Sivaya.\\nBhashya\\n\\nBefore dying, Hindus diligently fulfill obligations, make amends and resolve differences by forgiving themselves and others, lest unresolved karmas bear fruit in future births. That done, we turn to God through meditation, surrender and scriptural study. As a conscious death is our ideal, we avoid drugs, artificial life-extension and suicide. Suicide only postpones and intensifies the karma one seeks escape from, requiring several lives to return to the evolutionary point that existed at the moment of suicide. In cases of terminal illness, under strict community regulation, tradition does allow prayopavesha, self-willed religious death by fasting. When nearing transition, if hospitalized, we return home to be among loved ones. In the final hours of life, we seek the Self God within and focus on our mantra as kindred keep prayerful vigil. At death, we leave the body through the crown chakra, entering the clear white light and beyond in quest of videhamukti. The Vedas affirm, \"When a person comes to weakness, be it through old age or disease, he frees himself from these limbs just as a mango, a fig or a berry releases itself from its stalk.\" Aum Namah Sivaya.\\n\\n', metadata={})]"
      ]
     },
     "execution_count": 32,
     "metadata": {},
     "output_type": "execute_result"
    }
   ],
   "source": [
    "query = \"What does Hinduism say about suice?\"\n",
    "docs = docsearch.similarity_search(query, include_metadata=True)\n",
    "docs"
   ]
  },
  {
   "cell_type": "code",
   "execution_count": 21,
   "id": "f67ea7c2",
   "metadata": {
    "tags": []
   },
   "outputs": [],
   "source": [
    "# query = \"What is the collect stage of data maturity?\"\n",
    "# docs = docsearch.similarity_search(query, include_metadata=True)"
   ]
  },
  {
   "cell_type": "code",
   "execution_count": 33,
   "id": "3dfd2b7d",
   "metadata": {
    "tags": []
   },
   "outputs": [
    {
     "data": {
      "text/plain": [
       "' Hinduism prohibits suicide because it creates unseemly karma to be faced in the future. However, in cases of terminal illness, religious self-willed death through fasting, prayopavesha, is sometimes permitted. As found in the following sources: Lesson 229 from Living with Siva, Sutra 57 of the Nandinatha Sutras, and Sloka 35 from Dancing with Siva.'"
      ]
     },
     "execution_count": 33,
     "metadata": {},
     "output_type": "execute_result"
    }
   ],
   "source": [
    "chain.run(input_documents=docs, question=query + \" After your answer, include all of the lesson or sutra numbers from the entire context with the phrase: 'As found in the following sources: '. Say 'Sorry, I cannot find that answer, but you might try the following sources: ' if you do not have any source from the context provided. For both sources statement, do not include the 'Bhashya' title.\")"
   ]
  },
  {
   "cell_type": "code",
   "execution_count": null,
   "id": "485bc94c",
   "metadata": {},
   "outputs": [],
   "source": []
  }
 ],
 "metadata": {
  "kernelspec": {
   "display_name": "Python 3 (ipykernel)",
   "language": "python",
   "name": "python3"
  },
  "language_info": {
   "codemirror_mode": {
    "name": "ipython",
    "version": 3
   },
   "file_extension": ".py",
   "mimetype": "text/x-python",
   "name": "python",
   "nbconvert_exporter": "python",
   "pygments_lexer": "ipython3",
   "version": "3.10.6"
  }
 },
 "nbformat": 4,
 "nbformat_minor": 5
}
